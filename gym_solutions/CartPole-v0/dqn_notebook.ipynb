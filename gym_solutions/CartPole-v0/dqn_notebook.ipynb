{
 "cells": [
  {
   "cell_type": "markdown",
   "metadata": {},
   "source": [
    "# Deep Q-Network (DQN)"
   ]
  },
  {
   "cell_type": "markdown",
   "metadata": {},
   "source": [
    "This is an example of how to use a DQN agent to solve an unknown environment. Code can be found [here](https://github.com/Chrispresso/reinforcement_learning/tree/master/rl_algos). The paper associated with DQN can be found [here](https://www.cs.toronto.edu/~vmnih/docs/dqn.pdf).\n",
    "\n",
    "From the paper, the expected next state action values can be calculated like so:\n",
    "$$y_{j} =\n",
    "\\begin{cases}\n",
    "r_{j},  & \\text{for terminal $\\phi_{j+1}$} \\\\\n",
    "r_{j} + \\gamma\\text{max$_{a^{'}}$}Q(\\phi_{j+1},a^{'};\\theta),  & \\text{for terminal $\\phi_{j+1}$}\n",
    "\\end{cases}$$\n",
    "\n",
    "Where `Q` in this case is the `target` network. I chose `Q` to be the maximum over the `policy` network rather than explicitly having a `target` network. This still acts as a `target` since there is no guarantee that we choose the maximum action-value due to $\\epsilon-\\text{greedy}$ action selection."
   ]
  },
  {
   "cell_type": "markdown",
   "metadata": {},
   "source": [
    "### Imports and Envrionment"
   ]
  },
  {
   "cell_type": "markdown",
   "metadata": {},
   "source": [
    "A small `sys.path` hack to allow importing from the location of `rl_algos`."
   ]
  },
  {
   "cell_type": "code",
   "execution_count": 1,
   "metadata": {},
   "outputs": [],
   "source": [
    "import os,sys,inspect\n",
    "currentdir = os.path.dirname(os.path.abspath(inspect.getfile(inspect.currentframe())))\n",
    "parentdir = os.path.dirname(currentdir)\n",
    "rl_algos_dir = os.path.dirname(parentdir)\n",
    "sys.path.insert(0,rl_algos_dir)"
   ]
  },
  {
   "cell_type": "markdown",
   "metadata": {},
   "source": [
    "Import the `DQNAgent` that will be used and print parameters associated with it."
   ]
  },
  {
   "cell_type": "code",
   "execution_count": 2,
   "metadata": {},
   "outputs": [
    {
     "name": "stdout",
     "output_type": "stream",
     "text": [
      "{'replay_buffer_size': 50000, 'batch_size': 64, 'discount': 0.99, 'optimizer': <class 'torch.optim.adam.Adam'>, 'optimizer_kwargs': {}, 'loss_func': <function mse_loss at 0x7f692a7a60e0>, 'hidden_layers': [32, 24], 'exploration_type': 'e-greedy', 'tau': 0.9, 'eps_start': 1.0, 'eps_end': 0.01, 'eps_decay': 0.98}\n"
     ]
    }
   ],
   "source": [
    "from rl_algos.dqn_agent import DQNAgent, params\n",
    "print(params)"
   ]
  },
  {
   "cell_type": "code",
   "execution_count": 3,
   "metadata": {},
   "outputs": [],
   "source": [
    "import gym\n",
    "import matplotlib.pyplot as plt\n",
    "import torch\n",
    "import torch.nn.functional as F\n",
    "from collections import deque\n",
    "import numpy as np\n",
    "%matplotlib inline"
   ]
  },
  {
   "cell_type": "code",
   "execution_count": 4,
   "metadata": {},
   "outputs": [],
   "source": [
    "env = gym.make('CartPole-v0')"
   ]
  },
  {
   "cell_type": "code",
   "execution_count": 5,
   "metadata": {},
   "outputs": [
    {
     "name": "stdout",
     "output_type": "stream",
     "text": [
      "States: 4, Actions: 2\n"
     ]
    }
   ],
   "source": [
    "states = env.observation_space.shape[0]\n",
    "actions = env.action_space.n\n",
    "print(f'States: {states}, Actions: {actions}')"
   ]
  },
  {
   "cell_type": "markdown",
   "metadata": {},
   "source": [
    "### Train DQN Agent"
   ]
  },
  {
   "cell_type": "code",
   "execution_count": 6,
   "metadata": {},
   "outputs": [],
   "source": [
    "def train_dqn():\n",
    "    agent = DQNAgent(states, actions, params)\n",
    "    scores = []\n",
    "    scores_window = deque(maxlen=100)\n",
    "    eps = params['eps_start']\n",
    "    for episode in range(2000):\n",
    "        state = env.reset()\n",
    "        score = 0.0\n",
    "        for t in range(1000):\n",
    "            action = agent.act(state, eps)\n",
    "            next_state, reward, done, _ = env.step(action)\n",
    "            agent.step(state, action, reward, next_state, done)\n",
    "            state = next_state\n",
    "            score += reward\n",
    "            if done:\n",
    "                break\n",
    "        scores_window.append(score)\n",
    "        scores.append(score)\n",
    "        eps = max(params['eps_end'], eps*params['eps_decay'])\n",
    "        print('\\rEpisode {}\\tAverage Score: {:.2f}'.format(episode+1, np.mean(scores_window)), end=\"\")\n",
    "        if episode % 100 == 0 and episode > 0:\n",
    "            print('\\rEpisode {}\\tAverage Score: {:.2f}'.format(episode, np.mean(scores_window)))\n",
    "        if np.mean(scores_window)>=195.0:\n",
    "            print('\\nEnvironment solved in {:d} episodes!\\tAverage Score: {:.2f}'.format(episode-100+1, np.mean(scores_window)))\n",
    "            break\n",
    "    \n",
    "    return scores, agent"
   ]
  },
  {
   "cell_type": "code",
   "execution_count": 7,
   "metadata": {},
   "outputs": [
    {
     "name": "stdout",
     "output_type": "stream",
     "text": [
      "Episode 100\tAverage Score: 124.45\n",
      "Episode 151\tAverage Score: 195.01\n",
      "Environment solved in 51 episodes!\tAverage Score: 195.01\n"
     ]
    }
   ],
   "source": [
    "scores, agent = train_dqn()"
   ]
  },
  {
   "cell_type": "code",
   "execution_count": 8,
   "metadata": {},
   "outputs": [
    {
     "data": {
      "image/png": "[encoded data removed]",
      "text/plain": [
       "<Figure size 432x288 with 1 Axes>"
      ]
     },
     "metadata": {
      "needs_background": "light"
     },
     "output_type": "display_data"
    }
   ],
   "source": [
    "fig = plt.figure()\n",
    "ax = fig.add_subplot(111)\n",
    "plt.plot(np.arange(len(scores)), scores)\n",
    "plt.ylabel('Score')\n",
    "plt.xlabel('Episode #')\n",
    "plt.show()"
   ]
  },
  {
   "cell_type": "code",
   "execution_count": null,
   "metadata": {},
   "outputs": [],
   "source": []
  }
 ],
 "metadata": {
  "kernelspec": {
   "display_name": "Python 3",
   "language": "python",
   "name": "python3"
  },
  "language_info": {
   "codemirror_mode": {
    "name": "ipython",
    "version": 3
   },
   "file_extension": ".py",
   "mimetype": "text/x-python",
   "name": "python",
   "nbconvert_exporter": "python",
   "pygments_lexer": "ipython3",
   "version": "3.7.4"
  }
 },
 "nbformat": 4,
 "nbformat_minor": 2
}
