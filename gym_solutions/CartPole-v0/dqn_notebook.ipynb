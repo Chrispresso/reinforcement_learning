{
 "cells": [
  {
   "cell_type": "markdown",
   "metadata": {},
   "source": [
    "# Deep Q-Network (DQN)"
   ]
  },
  {
   "cell_type": "markdown",
   "metadata": {},
   "source": [
    "This is an example of how to use a DQN agent to solve an unknown environment. Code can be found [here](https://github.com/Chrispresso/reinforcement_learning/tree/master/rl_algos). The paper associated with DQN can be found [here](https://www.cs.toronto.edu/~vmnih/docs/dqn.pdf).\n",
    "\n",
    "From the paper, the expected next state action values can be calculated like so:\n",
    "$$y_{j} =\n",
    "\\begin{cases}\n",
    "r_{j},  & \\text{for terminal $\\phi_{j+1}$} \\\\\n",
    "r_{j} + \\gamma\\text{max$_{a^{'}}$}Q(\\phi_{j+1},a^{'};\\theta),  & \\text{for terminal $\\phi_{j+1}$}\n",
    "\\end{cases}$$\n",
    "\n",
    "Where `Q` in this case is the `target` network. I chose `Q` to be the maximum over the `policy` network rather than explicitly having a `target` network. This still acts as a `target` since there is no guarantee that we choose the maximum action-value due to $\\epsilon-\\text{greedy}$ action selection."
   ]
  },
  {
   "cell_type": "markdown",
   "metadata": {},
   "source": [
    "### Imports and Envrionment"
   ]
  },
  {
   "cell_type": "markdown",
   "metadata": {},
   "source": [
    "A small `sys.path` hack to allow importing from the location of `rl_algos`."
   ]
  },
  {
   "cell_type": "code",
   "execution_count": 1,
   "metadata": {},
   "outputs": [],
   "source": [
    "import os,sys,inspect\n",
    "currentdir = os.path.dirname(os.path.abspath(inspect.getfile(inspect.currentframe())))\n",
    "parentdir = os.path.dirname(currentdir)\n",
    "rl_algos_dir = os.path.dirname(parentdir)\n",
    "sys.path.insert(0,rl_algos_dir)"
   ]
  },
  {
   "cell_type": "markdown",
   "metadata": {},
   "source": [
    "Import the `DQNAgent` that will be used and print parameters associated with it."
   ]
  },
  {
   "cell_type": "code",
   "execution_count": 2,
   "metadata": {},
   "outputs": [
    {
     "name": "stdout",
     "output_type": "stream",
     "text": [
      "{'replay_buffer_size': 50000, 'batch_size': 64, 'discount': 0.99, 'optimizer': <class 'torch.optim.adam.Adam'>, 'optimizer_kwargs': {}, 'loss_func': <function mse_loss at 0x000001430ABD6620>, 'hidden_layers': [32, 24], 'exploration_type': 'e-greedy', 'tau': 0.9, 'eps_start': 1.0, 'eps_end': 0.01, 'eps_decay': 0.98}\n"
     ]
    }
   ],
   "source": [
    "from rl_algos.dqn_agent import DQNAgent, params\n",
    "print(params)"
   ]
  },
  {
   "cell_type": "code",
   "execution_count": 3,
   "metadata": {},
   "outputs": [],
   "source": [
    "import gym\n",
    "from gym import wrappers\n",
    "import matplotlib.pyplot as plt\n",
    "import torch\n",
    "import torch.nn.functional as F\n",
    "from collections import deque\n",
    "import numpy as np\n",
    "from IPython.display import HTML\n",
    "import os\n",
    "%matplotlib inline"
   ]
  },
  {
   "cell_type": "code",
   "execution_count": 4,
   "metadata": {},
   "outputs": [],
   "source": [
    "env = gym.make('CartPole-v0')"
   ]
  },
  {
   "cell_type": "code",
   "execution_count": 5,
   "metadata": {},
   "outputs": [
    {
     "name": "stdout",
     "output_type": "stream",
     "text": [
      "States: 4, Actions: 2\n"
     ]
    }
   ],
   "source": [
    "states = env.observation_space.shape[0]\n",
    "actions = env.action_space.n\n",
    "print(f'States: {states}, Actions: {actions}')"
   ]
  },
  {
   "cell_type": "markdown",
   "metadata": {},
   "source": [
    "### Train DQN Agent"
   ]
  },
  {
   "cell_type": "code",
   "execution_count": 6,
   "metadata": {},
   "outputs": [],
   "source": [
    "def train_dqn(env, params, monitor=False, save_vid_every_n_episodes=50, max_episodes=2000, state_dict=None):\n",
    "    \"\"\"\n",
    "    Args:\n",
    "        params (dict): If this is set, load the agent with these params.\n",
    "        env (gym.core.Env): The environment to train on\n",
    "        monitor (Optional[bool, False]): Whether or not to monitor the environment and save a video\n",
    "        save_vid_every_n_episodes (Optional[int, 50]): Only matters if monitor=True. This is the frequency at which to save videos.\n",
    "        max_episodes (Optional[int, 2000]): Max number of episodes to try to solve an environment before giving up.\n",
    "        state_dict (Optional[dict, None]): If this is set, the agent loads a state_dict, i.e. the parameters of the neural network. Mainly used if you want to load an agent later and save a video of best performance.\n",
    "    \"\"\"\n",
    "    agent = DQNAgent(states, actions, params)\n",
    "    scores = []\n",
    "    scores_window = deque(maxlen=100)\n",
    "    eps = params['eps_start']\n",
    "    if monitor:\n",
    "        env = wrappers.Monitor(env, \n",
    "                               directory='./monitors', \n",
    "                               video_callable=lambda episode_id: episode_id % save_vid_every_n_episodes == 0,\n",
    "                               force=True)\n",
    "    if state_dict:\n",
    "        agent.policy_network.load_state_dict(state_dict)\n",
    "    for episode in range(max_episodes):\n",
    "        state = env.reset()\n",
    "        score = 0.0\n",
    "        for t in range(1000):\n",
    "            action = agent.act(state, eps)\n",
    "            next_state, reward, done, _ = env.step(action)\n",
    "            agent.step(state, action, reward, next_state, done)\n",
    "            state = next_state\n",
    "            score += reward\n",
    "            if done:\n",
    "                break\n",
    "        scores_window.append(score)\n",
    "        scores.append(score)\n",
    "        eps = max(params['eps_end'], eps*params['eps_decay'])\n",
    "        print('\\rEpisode {}\\tAverage Score: {:.2f}'.format(episode+1, np.mean(scores_window)), end=\"\")\n",
    "        if episode % 100 == 0 and episode > 0:\n",
    "            print('\\rEpisode {}\\tAverage Score: {:.2f}'.format(episode, np.mean(scores_window)))\n",
    "        if np.mean(scores_window)>=195.0:\n",
    "            print('\\nEnvironment solved in {:d} episodes!\\tAverage Score: {:.2f}'.format(max(episode-100+1, 1), np.mean(scores_window)))\n",
    "            break\n",
    "    \n",
    "    return scores, agent"
   ]
  },
  {
   "cell_type": "code",
   "execution_count": 7,
   "metadata": {},
   "outputs": [
    {
     "name": "stdout",
     "output_type": "stream",
     "text": [
      "Episode 100\tAverage Score: 126.66\n",
      "Episode 145\tAverage Score: 196.07\n",
      "Environment solved in 45 episodes!\tAverage Score: 196.07\n"
     ]
    }
   ],
   "source": [
    "scores, agent = train_dqn(env, params=params)"
   ]
  },
  {
   "cell_type": "code",
   "execution_count": 8,
   "metadata": {},
   "outputs": [
    {
     "data": {
      "image/png": "[encoded data removed]",
      "text/plain": [
       "<Figure size 432x288 with 1 Axes>"
      ]
     },
     "metadata": {
      "needs_background": "light"
     },
     "output_type": "display_data"
    }
   ],
   "source": [
    "fig = plt.figure()\n",
    "ax = fig.add_subplot(111)\n",
    "plt.plot(np.arange(len(scores)), scores)\n",
    "plt.ylabel('Score')\n",
    "plt.xlabel('Episode #')\n",
    "plt.show()"
   ]
  },
  {
   "cell_type": "markdown",
   "metadata": {},
   "source": [
    "Now that we have the agent we can save the network parameters."
   ]
  },
  {
   "cell_type": "code",
   "execution_count": 9,
   "metadata": {},
   "outputs": [],
   "source": [
    "torch.save(agent.policy_network.state_dict(), 'policy_network.pt')"
   ]
  },
  {
   "cell_type": "markdown",
   "metadata": {},
   "source": [
    "We can load the parameters and run just one episode with the best parameters for the Q-network. This allows us to see how the agent performs at the end."
   ]
  },
  {
   "cell_type": "code",
   "execution_count": 10,
   "metadata": {},
   "outputs": [
    {
     "name": "stdout",
     "output_type": "stream",
     "text": [
      "\r",
      "Episode 1\tAverage Score: 200.00\n",
      "Environment solved in 1 episodes!\tAverage Score: 200.00\n"
     ]
    },
    {
     "data": {
      "text/plain": [
       "([200.0], <rl_algos.dqn_agent.DQNAgent at 0x1430e10dd30>)"
      ]
     },
     "execution_count": 10,
     "metadata": {},
     "output_type": "execute_result"
    }
   ],
   "source": [
    "agent.params['eps_start'] = agent.params['eps_end']\n",
    "train_dqn(env, agent.params, monitor=True, save_vid_every_n_episodes=1, max_episodes=1, state_dict=torch.load('policy_network.pt'))"
   ]
  },
  {
   "cell_type": "markdown",
   "metadata": {},
   "source": [
    "Now we can play the video to see how it performed at the end. Results will vary since the network is not guaranteed to be the same each time."
   ]
  },
  {
   "cell_type": "code",
   "execution_count": 11,
   "metadata": {},
   "outputs": [],
   "source": [
    "video_file = [f for f in os.listdir('./monitors') if 'video000000.mp4' in f]\n",
    "assert len(video_file) == 1, 'Expected one file. Skip this cell and force load a specific file'\n",
    "video_file = video_file[0]"
   ]
  },
  {
   "cell_type": "code",
   "execution_count": 12,
   "metadata": {},
   "outputs": [
    {
     "data": {
      "text/html": [
       "\n",
       "<video width=\"640\" height=\"480\" controls>\n",
       "  <source src=\"./monitors/openaigym.video.0.144356.video000000.mp4\" type=\"video/mp4\">\n",
       "</video>\n"
      ],
      "text/plain": [
       "<IPython.core.display.HTML object>"
      ]
     },
     "execution_count": 12,
     "metadata": {},
     "output_type": "execute_result"
    }
   ],
   "source": [
    "video_file = video_file\n",
    "path = f'./monitors/{video_file}'\n",
    "HTML(f\"\"\"\n",
    "<video width=\"640\" height=\"480\" controls>\n",
    "  <source src=\"{path}\" type=\"video/mp4\">\n",
    "</video>\n",
    "\"\"\")"
   ]
  },
  {
   "cell_type": "code",
   "execution_count": null,
   "metadata": {},
   "outputs": [],
   "source": []
  }
 ],
 "metadata": {
  "kernelspec": {
   "display_name": "Python 3",
   "language": "python",
   "name": "python3"
  },
  "language_info": {
   "codemirror_mode": {
    "name": "ipython",
    "version": 3
   },
   "file_extension": ".py",
   "mimetype": "text/x-python",
   "name": "python",
   "nbconvert_exporter": "python",
   "pygments_lexer": "ipython3",
   "version": "3.7.2"
  }
 },
 "nbformat": 4,
 "nbformat_minor": 2
}
